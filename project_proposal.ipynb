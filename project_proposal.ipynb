{
 "cells": [
  {
   "cell_type": "markdown",
   "metadata": {},
   "source": [
    "# Heart Disease Dataset Analysis"
   ]
  },
  {
   "cell_type": "markdown",
   "metadata": {},
   "source": [
    "Laura Flannigan, Kaitlyn Harvie, Hannah Morstead, & Tony Tang "
   ]
  },
  {
   "cell_type": "markdown",
   "metadata": {},
   "source": [
    "**Introduction**\n",
    "\n",
    "   According to the World Health Organization, the leading cause of death worldwide remains as cardiovascular disease (2021). However, these diseases are preventable as research has revealed various risk factors in the development of heart disease. Yusuf et al. (2001) suggested that smoking, as well as high blood pressure and increased LDL cholesterol levels show causal links to cardiovascular disease. Additionally, it is widely accepted that a family history of heart disease (Kardian et al., 2003), as well as diabetes also increase risk  — however, the risk of diabetes differs in men and women (Wilson, 1998). \n",
    "    Using the Heart Disease Dataset from the Cleveland Clinic Foundation, we will determine how accurately a classification model, using criterion variables; age, sex, chest pain type, resting blood pressure, blood cholesterol levels, smoker status, family history of diabetes, family hisotry of cadiac disease, and presence of exercise-indudced angina, correctly predict the presence of heart disease for a new observation. \n"
   ]
  },
  {
   "cell_type": "markdown",
   "metadata": {},
   "source": [
    "**Preliminary Exploratory Data Analysis**"
   ]
  },
  {
   "cell_type": "code",
   "execution_count": null,
   "metadata": {},
   "outputs": [],
   "source": []
  },
  {
   "cell_type": "markdown",
   "metadata": {},
   "source": [
    "**Methods**"
   ]
  },
  {
   "cell_type": "markdown",
   "metadata": {},
   "source": [
    "How will we conduct our data analysis?\n",
    "We will conduct our data analysis using classification, because we are trying to determine the categorical value, an integer from 0-4 (0 being no presence of heart disease, 1,2,3,4 being increasing presence of heart disease), that determines if the patient has heart disease or not. \n",
    "\n",
    "Which variables/columns will we use?\n",
    "Based on some brief research, we determined that the most relevant indicators of heart disease include, but are not limited to: age, sex, diabetes, family history, blood pressure, obeisity and smoking history. These are the most common and the most useful factors that physicians look at in diagnosing an individual with heart disease. As a result, we chose the corresponding available columns that are included in our chosen dataset. These columns are: \n",
    "#3 age\n",
    "#4 sex\n",
    "#9 cp: chest pain type\n",
    "#10 trestbp: resting blood pressure\n",
    "#12 chol: serum cholesterol level\n",
    "#19 restecg: resting electrocardiographic results\n",
    "#38 exang: exercise induced angina\n",
    "\n",
    "Visualization:\n",
    "To visualize the results, we would use a scatter plot with standardized data. This data would be the predicted attribute (the patient’s diagnosis) and one of the seven predictors we chose. This predictor would be chosen by its ability to accurately predict the attribute. To do this, we will create plots for each predictor and compare their accuracy. However, based on research, we anticipate cholesterol to be the superior predicting variable in this dataset.\n"
   ]
  },
  {
   "cell_type": "markdown",
   "metadata": {},
   "source": [
    "**Expected Outcomes and Significance**"
   ]
  },
  {
   "cell_type": "markdown",
   "metadata": {},
   "source": []
  },
  {
   "cell_type": "markdown",
   "metadata": {},
   "source": [
    "References"
   ]
  },
  {
   "cell_type": "markdown",
   "metadata": {},
   "source": [
    "World Health Organization. (2021). Cardiovascular Diseases (CVDs). Retreived from https://www.who.int/news-room/fact-sheets/detail/cardiovascular-diseases-(cvds) \n",
    "\n",
    "Yusuf, S., Reddy, S., Ounpuu, S. & Anand, S. (2001) Global Burden of Cardiovascular Diseases: Part I: General Considerations, the Epidemiologic Transition, Risk Factors, and Impact of Urbanization. Circulation, 104, 2746-2753. https://doi.org/10.1161/hc4601.099487\n",
    "\n",
    "Kardia, S.L.R., Modell S. M., Peyser P. A. (2003). Family-Centered Approaches to Understanding and Preventing Coronary Heart Disease. American Journal of Preventive Medicine, 24, 143-151.  doi:10.1016/S0749-3797(02)00587-1 \n",
    "\n",
    "Wilson, P. W. (1998). Diabetes mellitus and coronary heart disease. American Journal of Kidney Diseases, 32, 89-100. https://doi.org/10.1053/ajkd.1998.v32.pm9820468\n"
   ]
  },
  {
   "cell_type": "code",
   "execution_count": null,
   "metadata": {},
   "outputs": [],
   "source": [
    "US National Library of Medicine, National Institutes of Health: https://www.ncbi.nlm.nih.gov/pmc/articles/PMC6097244/ \n",
    "\n",
    "Johns Hopkins Medicine: https://www.hopkinsmedicine.org/health/wellness-and-prevention/abcs-of-knowing-your-heart-risk \n",
    "\n",
    "EveryDay Health: https://www.everydayhealth.com/heart-health-pictures/the-single-best-predictor-of-a-heart-attack.aspx \n",
    "\n",
    "Nature.com: https://www.nature.com/articles/s41598-020-62133-5 \n",
    "\n",
    "Centers for Disease Control and Prevention: https://www.cdc.gov/heartdisease/facts.htm \n",
    "\n",
    "Choosing Wisely Canada: https://choosingwiselycanada.org/ecg-electrocardiogram/ \n",
    "\n"
   ]
  }
 ],
 "metadata": {
  "kernelspec": {
   "display_name": "R",
   "language": "R",
   "name": "ir"
  },
  "language_info": {
   "codemirror_mode": "r",
   "file_extension": ".r",
   "mimetype": "text/x-r-source",
   "name": "R",
   "pygments_lexer": "r",
   "version": "4.0.0"
  }
 },
 "nbformat": 4,
 "nbformat_minor": 4
}
