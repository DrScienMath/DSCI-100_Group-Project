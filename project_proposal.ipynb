{
 "cells": [
  {
   "cell_type": "markdown",
   "metadata": {},
   "source": [
    "# Heart Disease Dataset Analysis"
   ]
  },
  {
   "cell_type": "markdown",
   "metadata": {},
   "source": [
    "Laura Flannigan, Kaitlyn Harvie, Hannah Morstead, & Tony Tang "
   ]
  },
  {
   "cell_type": "markdown",
   "metadata": {},
   "source": [
    "**Introduction**\n",
    "\n",
    "   According to the World Health Organization, the leading cause of death worldwide is cardiovascular diseases (2021). However, heart disorders can be preventable, as research has revealed various risk factors in the development of heart disease. Yusuf et al. (2001) suggested that high blood pressure and increased LDL cholesterol levels show causal links to cardiovascular disease. Additionally, the presence of chest pain has been found to be associated with increased risk of long-term cardiovascular disease (Robson et al., 2015), as well as ECT abnormalities which are suggestive of an increased risk of heart disease (Whincup, 1995). Other varibles, such as gender and age, contribute to risk factors (Mass & Appleman, 2010). \n",
    "    Using the Heart Disease Dataset from the Cleveland Clinic Foundation, we will determine how accurately a classification model correctly predicts the presence of heart disease for a new observation. The classification model will use the following predictor varibles: age, sex, chest pain type, resting blood pressure, blood cholesterol levels, resting ECT results, and presence of exercise-indudced angina.\n"
   ]
  },
  {
   "cell_type": "markdown",
   "metadata": {},
   "source": [
    "**Preliminary Exploratory Data Analysis**"
   ]
  },
  {
   "cell_type": "code",
   "execution_count": null,
   "metadata": {},
   "outputs": [],
   "source": []
  },
  {
   "cell_type": "markdown",
   "metadata": {},
   "source": [
    "**Methods**"
   ]
  },
  {
   "cell_type": "markdown",
   "metadata": {},
   "source": []
  },
  {
   "cell_type": "markdown",
   "metadata": {},
   "source": [
    "**Expected Outcomes and Significance**"
   ]
  },
  {
   "cell_type": "markdown",
   "metadata": {},
   "source": []
  },
  {
   "cell_type": "markdown",
   "metadata": {},
   "source": [
    "References"
   ]
  },
  {
   "cell_type": "markdown",
   "metadata": {},
   "source": [
    "World Health Organization. (2021). Cardiovascular Diseases (CVDs). Retreived from https://www.who.int/news-room/fact-sheets/detail/cardiovascular-diseases-(cvds) \n",
    "\n",
    "Yusuf, S., Reddy, S., Ounpuu, S. & Anand, S. (2001) Global Burden of Cardiovascular Diseases: Part I: General Considerations, the Epidemiologic Transition, Risk Factors, and Impact of Urbanization. Circulation, 104, 2746-2753. https://doi.org/10.1161/hc4601.099487\n",
    "\n",
    "Robson, J., Ayerbe, L., Mathur, R., Addo, J., & Wragg, A. (2015). Clinical value of chest pain presentation and prodromes on the assessment of cardiovascular disease: a cohort study. BJM Open, 5, 1-6. doi: 10.1136/bmjopen-2014-007251 \n",
    "\n",
    "Whincup, P. H., Wannamethee, G., Macfarlane, P. W., Walker, M. & Shaper, G. A. (1995). Resting electrocardiogram and risk of coronary heart disease in middle-ages British men. Journal of Cardiovascular Risk, 2, 533-543. https://doi.org/10.1177/174182679500200608\n",
    "\n",
    "\n",
    "Maas, A. H. E. M. & Appelman, Y. E. A. (2011). Gneder differences in coronary heart disease. Netherlands Heart Journal, 18, 589 - 602. doi: 10.1007/s12471-010-0841-y "
   ]
  },
  {
   "cell_type": "code",
   "execution_count": null,
   "metadata": {},
   "outputs": [],
   "source": []
  }
 ],
 "metadata": {
  "kernelspec": {
   "display_name": "R",
   "language": "R",
   "name": "ir"
  },
  "language_info": {
   "codemirror_mode": "r",
   "file_extension": ".r",
   "mimetype": "text/x-r-source",
   "name": "R",
   "pygments_lexer": "r",
   "version": "4.0.0"
  }
 },
 "nbformat": 4,
 "nbformat_minor": 4
}
