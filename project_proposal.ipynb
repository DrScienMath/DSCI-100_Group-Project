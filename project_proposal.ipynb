{
 "cells": [
  {
   "cell_type": "markdown",
   "metadata": {},
   "source": [
    "# Heart Disease Dataset Analysis"
   ]
  },
  {
   "cell_type": "markdown",
   "metadata": {},
   "source": [
    "Laura Flannigan, Kaitlyn Harvie, Hannah Morstead, & Tony Tang "
   ]
  },
  {
   "cell_type": "markdown",
   "metadata": {},
   "source": [
    "**Introduction**\n",
    "\n",
    "   According to the World Health Organization, the leading cause of death worldwide remains as cardiovascular diseases (2021). However, heart disorders can be preventable, as research has revealed various risk factors in the development of such diseases. Yusuf et al. (2001) suggest that high blood pressure and increased LDL cholesterol levels show causal links to cardiovascular disease. Additionally, the presence of chest pain has been shown to be associated with increased risk of long-term cardiovascular disease (Robson et al., 2015), as well as ECT abnormalities which are suggestive of an increased risk of heart disease (Whincup, 1995). Gender and age differences contribute to risk factors (Mass & Appleman, 2010). \n",
    "    Using the Heart Disease Dataset from the Cleveland Clinic Foundation, we will determine how accurately a classification model, using criterion variables; age, sex, chest pain type, resting blood pressure, blood cholesterol levels, resting ECT results, and presence of exercise-indudced angina, correctly predict the presence of heart disease for a new observation. \n",
    "\n"
   ]
  },
  {
   "cell_type": "markdown",
   "metadata": {},
   "source": [
    "**Preliminary Exploratory Data Analysis**"
   ]
  },
  {
   "cell_type": "code",
   "execution_count": 26,
   "metadata": {},
   "outputs": [
    {
     "name": "stderr",
     "output_type": "stream",
     "text": [
      "Parsed with column specification:\n",
      "cols(\n",
      "  age = \u001b[32mcol_double()\u001b[39m,\n",
      "  sex = \u001b[32mcol_double()\u001b[39m,\n",
      "  cp_type = \u001b[32mcol_double()\u001b[39m,\n",
      "  resting_bp = \u001b[32mcol_double()\u001b[39m,\n",
      "  cholesterol = \u001b[32mcol_double()\u001b[39m,\n",
      "  fasting_bs = \u001b[32mcol_double()\u001b[39m,\n",
      "  ECG_results = \u001b[32mcol_double()\u001b[39m,\n",
      "  max_pulse = \u001b[32mcol_double()\u001b[39m,\n",
      "  excercise_ang = \u001b[32mcol_double()\u001b[39m,\n",
      "  ST_depress = \u001b[32mcol_double()\u001b[39m,\n",
      "  slope_ST = \u001b[32mcol_double()\u001b[39m,\n",
      "  fluoroscopy = \u001b[32mcol_double()\u001b[39m,\n",
      "  thal = \u001b[32mcol_double()\u001b[39m,\n",
      "  diagnosis = \u001b[32mcol_double()\u001b[39m\n",
      ")\n",
      "\n"
     ]
    },
    {
     "data": {
      "text/html": [
       "<table>\n",
       "<caption>A spec_tbl_df: 303 × 14</caption>\n",
       "<thead>\n",
       "\t<tr><th scope=col>age</th><th scope=col>sex</th><th scope=col>cp_type</th><th scope=col>resting_bp</th><th scope=col>cholesterol</th><th scope=col>fasting_bs</th><th scope=col>ECG_results</th><th scope=col>max_pulse</th><th scope=col>excercise_ang</th><th scope=col>ST_depress</th><th scope=col>slope_ST</th><th scope=col>fluoroscopy</th><th scope=col>thal</th><th scope=col>diagnosis</th></tr>\n",
       "\t<tr><th scope=col>&lt;dbl&gt;</th><th scope=col>&lt;fct&gt;</th><th scope=col>&lt;fct&gt;</th><th scope=col>&lt;dbl&gt;</th><th scope=col>&lt;dbl&gt;</th><th scope=col>&lt;fct&gt;</th><th scope=col>&lt;fct&gt;</th><th scope=col>&lt;dbl&gt;</th><th scope=col>&lt;fct&gt;</th><th scope=col>&lt;dbl&gt;</th><th scope=col>&lt;fct&gt;</th><th scope=col>&lt;fct&gt;</th><th scope=col>&lt;fct&gt;</th><th scope=col>&lt;fct&gt;</th></tr>\n",
       "</thead>\n",
       "<tbody>\n",
       "\t<tr><td>63</td><td>1</td><td>1</td><td>145</td><td>233</td><td>1</td><td>2</td><td>150</td><td>0</td><td>2.3</td><td>3</td><td>0</td><td>6</td><td>0</td></tr>\n",
       "\t<tr><td>67</td><td>1</td><td>4</td><td>160</td><td>286</td><td>0</td><td>2</td><td>108</td><td>1</td><td>1.5</td><td>2</td><td>3</td><td>3</td><td>2</td></tr>\n",
       "\t<tr><td>67</td><td>1</td><td>4</td><td>120</td><td>229</td><td>0</td><td>2</td><td>129</td><td>1</td><td>2.6</td><td>2</td><td>2</td><td>7</td><td>1</td></tr>\n",
       "\t<tr><td>⋮</td><td>⋮</td><td>⋮</td><td>⋮</td><td>⋮</td><td>⋮</td><td>⋮</td><td>⋮</td><td>⋮</td><td>⋮</td><td>⋮</td><td>⋮</td><td>⋮</td><td>⋮</td></tr>\n",
       "\t<tr><td>57</td><td>1</td><td>4</td><td>130</td><td>131</td><td>0</td><td>0</td><td>115</td><td>1</td><td>1.2</td><td>2</td><td>1 </td><td>7</td><td>3</td></tr>\n",
       "\t<tr><td>57</td><td>0</td><td>2</td><td>130</td><td>236</td><td>0</td><td>2</td><td>174</td><td>0</td><td>0.0</td><td>2</td><td>1 </td><td>3</td><td>1</td></tr>\n",
       "\t<tr><td>38</td><td>1</td><td>3</td><td>138</td><td>175</td><td>0</td><td>0</td><td>173</td><td>0</td><td>0.0</td><td>1</td><td>NA</td><td>3</td><td>0</td></tr>\n",
       "</tbody>\n",
       "</table>\n"
      ],
      "text/latex": [
       "A spec\\_tbl\\_df: 303 × 14\n",
       "\\begin{tabular}{llllllllllllll}\n",
       " age & sex & cp\\_type & resting\\_bp & cholesterol & fasting\\_bs & ECG\\_results & max\\_pulse & excercise\\_ang & ST\\_depress & slope\\_ST & fluoroscopy & thal & diagnosis\\\\\n",
       " <dbl> & <fct> & <fct> & <dbl> & <dbl> & <fct> & <fct> & <dbl> & <fct> & <dbl> & <fct> & <fct> & <fct> & <fct>\\\\\n",
       "\\hline\n",
       "\t 63 & 1 & 1 & 145 & 233 & 1 & 2 & 150 & 0 & 2.3 & 3 & 0 & 6 & 0\\\\\n",
       "\t 67 & 1 & 4 & 160 & 286 & 0 & 2 & 108 & 1 & 1.5 & 2 & 3 & 3 & 2\\\\\n",
       "\t 67 & 1 & 4 & 120 & 229 & 0 & 2 & 129 & 1 & 2.6 & 2 & 2 & 7 & 1\\\\\n",
       "\t ⋮ & ⋮ & ⋮ & ⋮ & ⋮ & ⋮ & ⋮ & ⋮ & ⋮ & ⋮ & ⋮ & ⋮ & ⋮ & ⋮\\\\\n",
       "\t 57 & 1 & 4 & 130 & 131 & 0 & 0 & 115 & 1 & 1.2 & 2 & 1  & 7 & 3\\\\\n",
       "\t 57 & 0 & 2 & 130 & 236 & 0 & 2 & 174 & 0 & 0.0 & 2 & 1  & 3 & 1\\\\\n",
       "\t 38 & 1 & 3 & 138 & 175 & 0 & 0 & 173 & 0 & 0.0 & 1 & NA & 3 & 0\\\\\n",
       "\\end{tabular}\n"
      ],
      "text/markdown": [
       "\n",
       "A spec_tbl_df: 303 × 14\n",
       "\n",
       "| age &lt;dbl&gt; | sex &lt;fct&gt; | cp_type &lt;fct&gt; | resting_bp &lt;dbl&gt; | cholesterol &lt;dbl&gt; | fasting_bs &lt;fct&gt; | ECG_results &lt;fct&gt; | max_pulse &lt;dbl&gt; | excercise_ang &lt;fct&gt; | ST_depress &lt;dbl&gt; | slope_ST &lt;fct&gt; | fluoroscopy &lt;fct&gt; | thal &lt;fct&gt; | diagnosis &lt;fct&gt; |\n",
       "|---|---|---|---|---|---|---|---|---|---|---|---|---|---|\n",
       "| 63 | 1 | 1 | 145 | 233 | 1 | 2 | 150 | 0 | 2.3 | 3 | 0 | 6 | 0 |\n",
       "| 67 | 1 | 4 | 160 | 286 | 0 | 2 | 108 | 1 | 1.5 | 2 | 3 | 3 | 2 |\n",
       "| 67 | 1 | 4 | 120 | 229 | 0 | 2 | 129 | 1 | 2.6 | 2 | 2 | 7 | 1 |\n",
       "| ⋮ | ⋮ | ⋮ | ⋮ | ⋮ | ⋮ | ⋮ | ⋮ | ⋮ | ⋮ | ⋮ | ⋮ | ⋮ | ⋮ |\n",
       "| 57 | 1 | 4 | 130 | 131 | 0 | 0 | 115 | 1 | 1.2 | 2 | 1  | 7 | 3 |\n",
       "| 57 | 0 | 2 | 130 | 236 | 0 | 2 | 174 | 0 | 0.0 | 2 | 1  | 3 | 1 |\n",
       "| 38 | 1 | 3 | 138 | 175 | 0 | 0 | 173 | 0 | 0.0 | 1 | NA | 3 | 0 |\n",
       "\n"
      ],
      "text/plain": [
       "    age sex cp_type resting_bp cholesterol fasting_bs ECG_results max_pulse\n",
       "1   63  1   1       145        233         1          2           150      \n",
       "2   67  1   4       160        286         0          2           108      \n",
       "3   67  1   4       120        229         0          2           129      \n",
       "⋮   ⋮   ⋮   ⋮       ⋮          ⋮           ⋮          ⋮           ⋮        \n",
       "301 57  1   4       130        131         0          0           115      \n",
       "302 57  0   2       130        236         0          2           174      \n",
       "303 38  1   3       138        175         0          0           173      \n",
       "    excercise_ang ST_depress slope_ST fluoroscopy thal diagnosis\n",
       "1   0             2.3        3        0           6    0        \n",
       "2   1             1.5        2        3           3    2        \n",
       "3   1             2.6        2        2           7    1        \n",
       "⋮   ⋮             ⋮          ⋮        ⋮           ⋮    ⋮        \n",
       "301 1             1.2        2        1           7    3        \n",
       "302 0             0.0        2        1           3    1        \n",
       "303 0             0.0        1        NA          3    0        "
      ]
     },
     "metadata": {},
     "output_type": "display_data"
    }
   ],
   "source": [
    "library(tidyverse)\n",
    "library(tidymodels)\n",
    "\n",
    "url <- \"https://archive.ics.uci.edu/ml/machine-learning-databases/heart-disease/processed.cleveland.data\"\n",
    "download.file(url, \"data/processed_cleveland.csv\")\n",
    "cleveland_data <- read_csv(\"data/processed_cleveland.csv\", col_names = c(\"age\", \"sex\", \"cp_type\", \"resting_bp\",\n",
    "                           \"cholesterol\", \"fasting_bs\", \"ECG_results\", \"max_pulse\", \"excercise_ang\", \"ST_depress\",\n",
    "                          \"slope_ST\", \"fluoroscopy\", \"thal\", \"diagnosis\"), na = \"?\") %>%\n",
    "    mutate(sex = as_factor(sex)) %>%\n",
    "    mutate(cp_type = as_factor(cp_type)) %>%\n",
    "    mutate(fasting_bs = as_factor(fasting_bs)) %>%\n",
    "    mutate(ECG_results = as_factor(ECG_results)) %>%\n",
    "    mutate(excercise_ang = as_factor(excercise_ang)) %>%\n",
    "    mutate(slope_ST = as_factor(slope_ST)) %>%\n",
    "    mutate(fluoroscopy = as_factor(fluoroscopy)) %>%\n",
    "    mutate(thal = as_factor(thal)) %>%\n",
    "    mutate(diagnosis = as_factor(diagnosis))\n",
    "cleveland_data"
   ]
  },
  {
   "cell_type": "markdown",
   "metadata": {},
   "source": [
    "- age: age in years\n",
    "- sex: sex (1 = male; 0 = female)\n",
    "- cp_type: chest pain type (1: typical angina; 2: atypical angina; 3: non-anginal pain; 4: asymptomatic)\n",
    "- resting_bp: resting blood pressure upon admission to hospital (mm Hg)\n",
    "- cholesterol: blood cholesterol content (mg/dl)\n",
    "- fasting_bs: fasting blood sugar greater than 120 mg/dl (1 = true; 0 = false)\n",
    "- ECG_results: resting ECG results (0: normal; 1: ST-T wave abnormality; 2: left ventricular hypertrophy)\n",
    "- max_pulse: maximum heart rate achieved\n",
    "- excercise_ang: exercise induced angina (1 = yes; 0 = no)\n",
    "- ST_depress: ST depression induced by exercise relative to rest\n",
    "- slope_ST: slope of the peak exercise ST segment (1: upsloping; 2: flat; 3: downsloping)\n",
    "- fluoroscopy: # of major vessels (0-3) coloured by fluoroscopy\n",
    "- thal: unknown variable with values 3 = normal, 6 = fixed defect, 7 = reversable defect\n",
    "- diagnosis: diagnosis of heart disease (0 = healthy; 1-4 = afflicted)"
   ]
  },
  {
   "cell_type": "code",
   "execution_count": 29,
   "metadata": {},
   "outputs": [
    {
     "data": {
      "text/html": [
       "<table>\n",
       "<caption>A tibble: 229 × 8</caption>\n",
       "<thead>\n",
       "\t<tr><th scope=col>age</th><th scope=col>sex</th><th scope=col>cp_type</th><th scope=col>resting_bp</th><th scope=col>cholesterol</th><th scope=col>ECG_results</th><th scope=col>excercise_ang</th><th scope=col>diagnosis</th></tr>\n",
       "\t<tr><th scope=col>&lt;dbl&gt;</th><th scope=col>&lt;fct&gt;</th><th scope=col>&lt;fct&gt;</th><th scope=col>&lt;dbl&gt;</th><th scope=col>&lt;dbl&gt;</th><th scope=col>&lt;fct&gt;</th><th scope=col>&lt;fct&gt;</th><th scope=col>&lt;fct&gt;</th></tr>\n",
       "</thead>\n",
       "<tbody>\n",
       "\t<tr><td>67</td><td>1</td><td>4</td><td>120</td><td>229</td><td>2</td><td>1</td><td>1</td></tr>\n",
       "\t<tr><td>41</td><td>0</td><td>2</td><td>130</td><td>204</td><td>2</td><td>0</td><td>0</td></tr>\n",
       "\t<tr><td>56</td><td>1</td><td>2</td><td>120</td><td>236</td><td>0</td><td>0</td><td>0</td></tr>\n",
       "\t<tr><td>⋮</td><td>⋮</td><td>⋮</td><td>⋮</td><td>⋮</td><td>⋮</td><td>⋮</td><td>⋮</td></tr>\n",
       "\t<tr><td>45</td><td>1</td><td>1</td><td>110</td><td>264</td><td>0</td><td>0</td><td>1</td></tr>\n",
       "\t<tr><td>57</td><td>1</td><td>4</td><td>130</td><td>131</td><td>0</td><td>1</td><td>3</td></tr>\n",
       "\t<tr><td>57</td><td>0</td><td>2</td><td>130</td><td>236</td><td>2</td><td>0</td><td>1</td></tr>\n",
       "</tbody>\n",
       "</table>\n"
      ],
      "text/latex": [
       "A tibble: 229 × 8\n",
       "\\begin{tabular}{llllllll}\n",
       " age & sex & cp\\_type & resting\\_bp & cholesterol & ECG\\_results & excercise\\_ang & diagnosis\\\\\n",
       " <dbl> & <fct> & <fct> & <dbl> & <dbl> & <fct> & <fct> & <fct>\\\\\n",
       "\\hline\n",
       "\t 67 & 1 & 4 & 120 & 229 & 2 & 1 & 1\\\\\n",
       "\t 41 & 0 & 2 & 130 & 204 & 2 & 0 & 0\\\\\n",
       "\t 56 & 1 & 2 & 120 & 236 & 0 & 0 & 0\\\\\n",
       "\t ⋮ & ⋮ & ⋮ & ⋮ & ⋮ & ⋮ & ⋮ & ⋮\\\\\n",
       "\t 45 & 1 & 1 & 110 & 264 & 0 & 0 & 1\\\\\n",
       "\t 57 & 1 & 4 & 130 & 131 & 0 & 1 & 3\\\\\n",
       "\t 57 & 0 & 2 & 130 & 236 & 2 & 0 & 1\\\\\n",
       "\\end{tabular}\n"
      ],
      "text/markdown": [
       "\n",
       "A tibble: 229 × 8\n",
       "\n",
       "| age &lt;dbl&gt; | sex &lt;fct&gt; | cp_type &lt;fct&gt; | resting_bp &lt;dbl&gt; | cholesterol &lt;dbl&gt; | ECG_results &lt;fct&gt; | excercise_ang &lt;fct&gt; | diagnosis &lt;fct&gt; |\n",
       "|---|---|---|---|---|---|---|---|\n",
       "| 67 | 1 | 4 | 120 | 229 | 2 | 1 | 1 |\n",
       "| 41 | 0 | 2 | 130 | 204 | 2 | 0 | 0 |\n",
       "| 56 | 1 | 2 | 120 | 236 | 0 | 0 | 0 |\n",
       "| ⋮ | ⋮ | ⋮ | ⋮ | ⋮ | ⋮ | ⋮ | ⋮ |\n",
       "| 45 | 1 | 1 | 110 | 264 | 0 | 0 | 1 |\n",
       "| 57 | 1 | 4 | 130 | 131 | 0 | 1 | 3 |\n",
       "| 57 | 0 | 2 | 130 | 236 | 2 | 0 | 1 |\n",
       "\n"
      ],
      "text/plain": [
       "    age sex cp_type resting_bp cholesterol ECG_results excercise_ang diagnosis\n",
       "1   67  1   4       120        229         2           1             1        \n",
       "2   41  0   2       130        204         2           0             0        \n",
       "3   56  1   2       120        236         0           0             0        \n",
       "⋮   ⋮   ⋮   ⋮       ⋮          ⋮           ⋮           ⋮             ⋮        \n",
       "227 45  1   1       110        264         0           0             1        \n",
       "228 57  1   4       130        131         0           1             3        \n",
       "229 57  0   2       130        236         2           0             1        "
      ]
     },
     "metadata": {},
     "output_type": "display_data"
    }
   ],
   "source": [
    "cleveland_data <- cleveland_data %>%\n",
    "    select(\"age\", \"sex\", \"cp_type\", \"resting_bp\", \"cholesterol\", \"ECG_results\", \"excercise_ang\", \"diagnosis\")\n",
    "cleveland_split <- initial_split(cleveland_data, prop = 3/4, strata = diagnosis)\n",
    "cleveland_train <- training(cleveland_split)\n",
    "cleveland_test <- testing(cleveland_split)\n",
    "cleveland_train"
   ]
  },
  {
   "cell_type": "markdown",
   "metadata": {},
   "source": [
    "**Methods**"
   ]
  },
  {
   "cell_type": "markdown",
   "metadata": {},
   "source": []
  },
  {
   "cell_type": "markdown",
   "metadata": {},
   "source": [
    "**Expected Outcomes and Significance**\n",
    "\n",
    "We expect our final classification model to be able to accurately predict the presence and severity of heart disease in a new patient based.  The classification model will be able to make accurate predictions majority of the time, which can aid the diagnosis process. By being able to predict the severity of heart disease based on related predictors the classification model can help identify patients with less severe heart disease. This will be beneficial to aid in preventative treatments to slow the progression of heart disease in such patients. Through the use of the classification model, some questions may arise such as, which predictors relate the most to the severity of heart disease? And is there one predictor that is stronger than others in accurately predicting the presence of heart disease?\n",
    "\n"
   ]
  },
  {
   "cell_type": "markdown",
   "metadata": {},
   "source": []
  },
  {
   "cell_type": "markdown",
   "metadata": {},
   "source": [
    "References"
   ]
  },
  {
   "cell_type": "markdown",
   "metadata": {},
   "source": [
    "World Health Organization. (2021). Cardiovascular Diseases (CVDs). Retreived from https://www.who.int/news-room/fact-sheets/detail/cardiovascular-diseases-(cvds) \n",
    "\n",
    "Yusuf, S., Reddy, S., Ounpuu, S. & Anand, S. (2001) Global Burden of Cardiovascular Diseases: Part I: General Considerations, the Epidemiologic Transition, Risk Factors, and Impact of Urbanization. Circulation, 104, 2746-2753. https://doi.org/10.1161/hc4601.099487\n",
    "\n",
    "Robson, J., Ayerbe, L., Mathur, R., Addo, J., & Wragg, A. (2015). Clinical value of chest pain presentation and prodromes on the assessment of cardiovascular disease: a cohort study. BJM Open, 5, 1-6. doi: 10.1136/bmjopen-2014-007251 \n",
    "\n",
    "Whincup, P. H., Wannamethee, G., Macfarlane, P. W., Walker, M. & Shaper, G. A. (1995). Resting electrocardiogram and risk of coronary heart disease in middle-ages British men. Journal of Cardiovascular Risk, 2, 533-543. https://doi.org/10.1177/174182679500200608\n",
    "\n",
    "\n",
    "Maas, A. H. E. M. & Appelman, Y. E. A. (2011). Gneder differences in coronary heart disease. Netherlands Heart Journal, 18, 589 - 602. doi: 10.1007/s12471-010-0841-y "
   ]
  },
  {
   "cell_type": "code",
   "execution_count": null,
   "metadata": {},
   "outputs": [],
   "source": []
  }
 ],
 "metadata": {
  "kernelspec": {
   "display_name": "R",
   "language": "R",
   "name": "ir"
  },
  "language_info": {
   "codemirror_mode": "r",
   "file_extension": ".r",
   "mimetype": "text/x-r-source",
   "name": "R",
   "pygments_lexer": "r",
   "version": "4.0.0"
  }
 },
 "nbformat": 4,
 "nbformat_minor": 4
}
