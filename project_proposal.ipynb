{
 "cells": [
  {
   "cell_type": "markdown",
   "metadata": {},
   "source": [
    "# Heart Disease Dataset Analysis"
   ]
  },
  {
   "cell_type": "markdown",
   "metadata": {},
   "source": [
    "**Introduction**\n",
    "\n",
    "   According to the World Health Organization, the leading cause of death worldwide remains as cardiovascular disease (2021). However, these diseases are preventable as research has revealed various risk factors in the development of heart disease. Yusuf et al. (2001) suggested that smoking, as well as high blood pressure and increased LDL cholesterol levels show causal links to cardiovascular disease. Additionally, it is widely accepted that a family history of heart disease (Kardian et al., 2003), as well as diabetes also increase risk  — however, the risk of diabetes differs in men and women (Wilson, 1998). \n",
    "    Using the Heart Disease Dataset from the Cleveland Clinic Foundation, we will determine how accurately a classification model, using criterion variables; age, sex, chest pain type, resting blood pressure, blood cholesterol levels, smoker status, family history of diabetes, family hisotry of cadiac disease, and presence of exercise-indudced angina, correctly predict the presence of heart disease for a new observation. \n"
   ]
  },
  {
   "cell_type": "code",
   "execution_count": null,
   "metadata": {},
   "outputs": [],
   "source": []
  }
 ],
 "metadata": {
  "kernelspec": {
   "display_name": "R",
   "language": "R",
   "name": "ir"
  },
  "language_info": {
   "codemirror_mode": "r",
   "file_extension": ".r",
   "mimetype": "text/x-r-source",
   "name": "R",
   "pygments_lexer": "r",
   "version": "4.0.0"
  }
 },
 "nbformat": 4,
 "nbformat_minor": 4
}
